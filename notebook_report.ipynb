{
 "cells": [
  {
   "cell_type": "markdown",
   "id": "49afc3bd",
   "metadata": {},
   "source": [
    "# University Ranking Prediction"
   ]
  },
  {
   "cell_type": "markdown",
   "id": "a8c59afb",
   "metadata": {},
   "source": [
    "Mission: Find a good model that could be used by university administrators to see how certain changes could affect their ranking."
   ]
  },
  {
   "attachments": {},
   "cell_type": "markdown",
   "id": "7a6bffe0",
   "metadata": {},
   "source": [
    "<img src=\"university_campus.jpg\" alt=\"University Campus\" width=\"600px\">"
   ]
  },
  {
   "cell_type": "markdown",
   "id": "44022f4f",
   "metadata": {},
   "source": [
    "### Importing the libraries"
   ]
  },
  {
   "cell_type": "code",
   "execution_count": 1,
   "id": "d1507d6c",
   "metadata": {},
   "outputs": [],
   "source": [
    "import warnings\n",
    "import itertools\n",
    "import pandas as pd\n",
    "import numpy as np\n",
    "import matplotlib as mpl\n",
    "import folium\n",
    "from folium.plugins import HeatMap, HeatMapWithTime\n",
    "import matplotlib.pyplot as plt\n",
    "import seaborn as sns\n",
    "from ipyleaflet import Map, Marker, basemaps, basemap_to_tiles, Polyline, Popup\n",
    "from ipywidgets import HTML\n",
    "from sklearn.linear_model import ElasticNet\n",
    "from sklearn.linear_model import LinearRegression\n",
    "from sklearn.linear_model import Lars\n",
    "from sklearn.linear_model import Ridge\n",
    "from sklearn.linear_model import GammaRegressor\n",
    "from sklearn.linear_model import SGDRegressor \n",
    "from xgboost import XGBRegressor\n",
    "from sklearn.ensemble import RandomForestRegressor\n",
    "from sklearn.pipeline import Pipeline\n",
    "from sklearn.preprocessing import StandardScaler\n",
    "from sklearn.model_selection import train_test_split\n",
    "\n",
    "warnings.filterwarnings('ignore')"
   ]
  },
  {
   "cell_type": "markdown",
   "id": "8959072c",
   "metadata": {},
   "source": [
    "## Importing the dataset"
   ]
  },
  {
   "cell_type": "code",
   "execution_count": 2,
   "id": "114e8638",
   "metadata": {},
   "outputs": [
    {
     "data": {
      "text/html": [
       "<div>\n",
       "<style scoped>\n",
       "    .dataframe tbody tr th:only-of-type {\n",
       "        vertical-align: middle;\n",
       "    }\n",
       "\n",
       "    .dataframe tbody tr th {\n",
       "        vertical-align: top;\n",
       "    }\n",
       "\n",
       "    .dataframe thead th {\n",
       "        text-align: right;\n",
       "    }\n",
       "</style>\n",
       "<table border=\"1\" class=\"dataframe\">\n",
       "  <thead>\n",
       "    <tr style=\"text-align: right;\">\n",
       "      <th></th>\n",
       "      <th>world_rank</th>\n",
       "      <th>university_name</th>\n",
       "      <th>country</th>\n",
       "      <th>teaching</th>\n",
       "      <th>international</th>\n",
       "      <th>num_students</th>\n",
       "      <th>student_staff_ratio</th>\n",
       "      <th>international_students</th>\n",
       "      <th>female_male_ratio</th>\n",
       "      <th>year</th>\n",
       "    </tr>\n",
       "  </thead>\n",
       "  <tbody>\n",
       "    <tr>\n",
       "      <th>0</th>\n",
       "      <td>1</td>\n",
       "      <td>Harvard University</td>\n",
       "      <td>United States of America</td>\n",
       "      <td>99.7</td>\n",
       "      <td>72.4</td>\n",
       "      <td>20,152</td>\n",
       "      <td>8.9</td>\n",
       "      <td>25%</td>\n",
       "      <td>NaN</td>\n",
       "      <td>2011</td>\n",
       "    </tr>\n",
       "    <tr>\n",
       "      <th>1</th>\n",
       "      <td>2</td>\n",
       "      <td>California Institute of Technology</td>\n",
       "      <td>United States of America</td>\n",
       "      <td>97.7</td>\n",
       "      <td>54.6</td>\n",
       "      <td>2,243</td>\n",
       "      <td>6.9</td>\n",
       "      <td>27%</td>\n",
       "      <td>33 : 67</td>\n",
       "      <td>2011</td>\n",
       "    </tr>\n",
       "  </tbody>\n",
       "</table>\n",
       "</div>"
      ],
      "text/plain": [
       "  world_rank                     university_name                   country  \\\n",
       "0          1                  Harvard University  United States of America   \n",
       "1          2  California Institute of Technology  United States of America   \n",
       "\n",
       "   teaching international num_students  student_staff_ratio  \\\n",
       "0      99.7          72.4       20,152                  8.9   \n",
       "1      97.7          54.6        2,243                  6.9   \n",
       "\n",
       "  international_students female_male_ratio  year  \n",
       "0                    25%               NaN  2011  \n",
       "1                    27%           33 : 67  2011  "
      ]
     },
     "execution_count": 2,
     "metadata": {},
     "output_type": "execute_result"
    }
   ],
   "source": [
    "df = pd.read_csv('timesData.csv')\n",
    "df = df.drop('total_score', axis=1)\n",
    "df.iloc[:4, [0,1,2,3,4,8, 9, 10, 11, 12]].head(2)"
   ]
  },
  {
   "cell_type": "code",
   "execution_count": 3,
   "id": "ce6c943f",
   "metadata": {},
   "outputs": [
    {
     "data": {
      "text/plain": [
       "(2603, 13)"
      ]
     },
     "execution_count": 3,
     "metadata": {},
     "output_type": "execute_result"
    }
   ],
   "source": [
    "df.shape"
   ]
  },
  {
   "cell_type": "code",
   "execution_count": 4,
   "id": "decff889",
   "metadata": {},
   "outputs": [
    {
     "name": "stdout",
     "output_type": "stream",
     "text": [
      "<class 'pandas.core.frame.DataFrame'>\n",
      "RangeIndex: 2603 entries, 0 to 2602\n",
      "Data columns (total 13 columns):\n",
      " #   Column                  Non-Null Count  Dtype  \n",
      "---  ------                  --------------  -----  \n",
      " 0   world_rank              2603 non-null   object \n",
      " 1   university_name         2603 non-null   object \n",
      " 2   country                 2603 non-null   object \n",
      " 3   teaching                2603 non-null   float64\n",
      " 4   international           2603 non-null   object \n",
      " 5   research                2603 non-null   float64\n",
      " 6   citations               2603 non-null   float64\n",
      " 7   income                  2603 non-null   object \n",
      " 8   num_students            2544 non-null   object \n",
      " 9   student_staff_ratio     2544 non-null   float64\n",
      " 10  international_students  2536 non-null   object \n",
      " 11  female_male_ratio       2370 non-null   object \n",
      " 12  year                    2603 non-null   int64  \n",
      "dtypes: float64(4), int64(1), object(8)\n",
      "memory usage: 264.5+ KB\n"
     ]
    }
   ],
   "source": [
    "df.info()"
   ]
  },
  {
   "cell_type": "markdown",
   "id": "22f665f1",
   "metadata": {},
   "source": [
    "Most of the independent variables has object dtype, which needs to be converted to float or int dtype. This comes from the result of variables being tied, written as \"=x\" where x is the shared position. An example would be in the world rank column, \"=601\" means tied 601^th place."
   ]
  },
  {
   "cell_type": "markdown",
   "id": "5aca02d5",
   "metadata": {},
   "source": [
    "## Feature Engineering"
   ]
  },
  {
   "cell_type": "code",
   "execution_count": 5,
   "id": "06bbaa25",
   "metadata": {},
   "outputs": [],
   "source": [
    "df_new = df[df['year'] == df['year'].max()].copy()\n",
    "df_new = df_new.reset_index(drop=True)"
   ]
  },
  {
   "cell_type": "code",
   "execution_count": 6,
   "id": "1c75f2d9",
   "metadata": {},
   "outputs": [],
   "source": [
    "df_ties = df_new[df_new['world_rank'].str.contains(\"=\")].copy()"
   ]
  },
  {
   "cell_type": "code",
   "execution_count": 7,
   "id": "51d9a5b8",
   "metadata": {},
   "outputs": [],
   "source": [
    "df_large_ties = df_new[df_new['world_rank'].str.contains(\"601-\")].copy()"
   ]
  },
  {
   "cell_type": "code",
   "execution_count": 8,
   "id": "fec62987",
   "metadata": {},
   "outputs": [],
   "source": [
    "df_new['world_rank'] = df_new['world_rank'].str.replace('=', '')\n",
    "df_new['world_rank'] = df_new['world_rank'].str.extract('([0-9]*)', expand=False)\n",
    "df_new['world_rank'] = pd.to_numeric(df_new['world_rank'])\n",
    "df_new['international'] = pd.to_numeric(df_new['international'])\n",
    "df_new['income'] = df_new['income'].replace('-', np.nan)\n",
    "df_new['income'] = pd.to_numeric(df_new['income'])\n",
    "df_new['num_students'] = df_new['num_students'].str.replace(',', '')\n",
    "df_new['num_students'] = pd.to_numeric(df_new['num_students'])\n",
    "df_new['international_students'] = df_new['international_students'].str.replace('%', '')\n",
    "df_new['international_students'] = pd.to_numeric(df_new['international_students'])\n",
    "df_new['female_male_ratio'] = df_new['female_male_ratio'].replace('-', np.nan)\n",
    "df_new['female_ratio'] = df_new['female_male_ratio'].str.extract('([0-9]*)')\n",
    "df_new['female_ratio'] = pd.to_numeric(df_new['female_ratio'])\n",
    "df_new = df_new.drop(['female_male_ratio', 'year'], axis=1)"
   ]
  },
  {
   "cell_type": "code",
   "execution_count": 9,
   "id": "2bb867af",
   "metadata": {},
   "outputs": [],
   "source": [
    "nan_val_columns = ['num_students', 'student_staff_ratio', 'international_students', 'female_ratio',\n",
    "                  'income']\n",
    "for col in nan_val_columns:\n",
    "    df_new[col] = df_new[col].fillna(method='bfill').fillna(method='ffill')"
   ]
  },
  {
   "cell_type": "markdown",
   "id": "6466500f",
   "metadata": {},
   "source": [
    "## Finding University coordinates (for the map visualizations)"
   ]
  },
  {
   "cell_type": "code",
   "execution_count": 10,
   "id": "00cbc78b",
   "metadata": {},
   "outputs": [],
   "source": [
    "# from geopy.geocoders import Nominatim\n",
    "# geolocator = Nominatim(user_agent='myapplication')"
   ]
  },
  {
   "cell_type": "code",
   "execution_count": 11,
   "id": "6160f58e",
   "metadata": {},
   "outputs": [],
   "source": [
    "# def precise_loc(institution):\n",
    "#     try:\n",
    "#         location = geolocator.geocode(institution)\n",
    "#         return (location.raw['lat'], location.raw['lon'])\n",
    "#     except:\n",
    "#         print(institution)\n",
    "#         return np.nan"
   ]
  },
  {
   "cell_type": "markdown",
   "id": "b411e464",
   "metadata": {},
   "source": [
    "### Dropping the values that Geopy cannot find"
   ]
  },
  {
   "cell_type": "code",
   "execution_count": 12,
   "id": "d15c18ba",
   "metadata": {},
   "outputs": [],
   "source": [
    "#precise_loc_vec = np.vectorize(precise_loc)"
   ]
  },
  {
   "cell_type": "code",
   "execution_count": 13,
   "id": "12a586f5",
   "metadata": {},
   "outputs": [],
   "source": [
    "# not_found_list = ['ETH Zurich – Swiss Federal Institute of Technology Zurich', \n",
    "#                  'Wageningen University and Research Center',\n",
    "#                 'Free University of Berlin']"
   ]
  },
  {
   "cell_type": "code",
   "execution_count": 14,
   "id": "ced9930d",
   "metadata": {},
   "outputs": [],
   "source": [
    "# df_new[df_new['university_name'].isin(not_found_list)].index"
   ]
  },
  {
   "cell_type": "code",
   "execution_count": 15,
   "id": "94e2fe18",
   "metadata": {},
   "outputs": [],
   "source": [
    "# df_new = df_new.drop(df_new[df_new['university_name'].isin(not_found_list)].index)"
   ]
  },
  {
   "cell_type": "code",
   "execution_count": 16,
   "id": "bd1b5fb9",
   "metadata": {
    "scrolled": true
   },
   "outputs": [],
   "source": [
    "# geo_coords = precise_loc_vec(df_new.iloc[:100,1].values)"
   ]
  },
  {
   "cell_type": "code",
   "execution_count": 17,
   "id": "d88cb926",
   "metadata": {},
   "outputs": [],
   "source": [
    "# arr_lat = list()\n",
    "# arr_lon = list()\n",
    "# for i in range(len(df_new)):\n",
    "#     try:\n",
    "#         arr_lat.append(geo_coords[0][i])\n",
    "#         arr_lon.append(geo_coords[1][i])\n",
    "#     except:\n",
    "#         arr_lat.append(np.nan)\n",
    "#         arr_lon.append(np.nan)"
   ]
  },
  {
   "cell_type": "code",
   "execution_count": 18,
   "id": "80925017",
   "metadata": {},
   "outputs": [],
   "source": [
    "# df_new['latitude'] = arr_lat\n",
    "# df_new['longitude'] = arr_lon"
   ]
  },
  {
   "cell_type": "markdown",
   "id": "fa5cfb87",
   "metadata": {},
   "source": [
    "#### Exporting the dataset, and importing, since the api takes a while"
   ]
  },
  {
   "cell_type": "code",
   "execution_count": 19,
   "id": "47571780",
   "metadata": {},
   "outputs": [],
   "source": [
    "#df_coord =df_new.to_csv('top_100_with_coordinates.csv')"
   ]
  },
  {
   "cell_type": "code",
   "execution_count": 20,
   "id": "518351b0",
   "metadata": {},
   "outputs": [],
   "source": [
    "df_new = pd.read_csv('top_100_with_coordinates.csv')"
   ]
  },
  {
   "cell_type": "code",
   "execution_count": 21,
   "id": "ec8fd3de",
   "metadata": {},
   "outputs": [],
   "source": [
    "df_new = df_new.reset_index(drop=True)"
   ]
  },
  {
   "cell_type": "code",
   "execution_count": 22,
   "id": "f502466b",
   "metadata": {},
   "outputs": [],
   "source": [
    "df_new = df_new.drop(columns=df_new.columns[0])"
   ]
  },
  {
   "cell_type": "code",
   "execution_count": 23,
   "id": "04ae0193",
   "metadata": {},
   "outputs": [],
   "source": [
    "df_heatmap = df_new.iloc[:100, [-2, -1, 0]].copy() "
   ]
  },
  {
   "cell_type": "markdown",
   "id": "34a59f2c",
   "metadata": {},
   "source": [
    "### Flipping the values for the heatmap"
   ]
  },
  {
   "cell_type": "code",
   "execution_count": 24,
   "id": "ddd20cc1",
   "metadata": {},
   "outputs": [
    {
     "data": {
      "text/plain": [
       "Index(['latitude', 'longitude', 'world_rank'], dtype='object')"
      ]
     },
     "execution_count": 24,
     "metadata": {},
     "output_type": "execute_result"
    }
   ],
   "source": [
    "df_heatmap.columns"
   ]
  },
  {
   "cell_type": "code",
   "execution_count": 25,
   "id": "1e1d1853",
   "metadata": {},
   "outputs": [],
   "source": [
    "df_heatmap = df_heatmap.rename(columns={'Unnamed: 0': 'world_rank'})"
   ]
  },
  {
   "cell_type": "code",
   "execution_count": 26,
   "id": "c953d3a8",
   "metadata": {},
   "outputs": [],
   "source": [
    "df_heatmap.world_rank = abs(100 - df_heatmap.world_rank)"
   ]
  },
  {
   "cell_type": "code",
   "execution_count": 27,
   "id": "4b74c2f0",
   "metadata": {
    "scrolled": false
   },
   "outputs": [
    {
     "data": {
      "text/html": [
       "<div style=\"width:100%;\"><div style=\"position:relative;width:100%;height:0;padding-bottom:60%;\"><span style=\"color:#565656\">Make this Notebook Trusted to load map: File -> Trust Notebook</span><iframe srcdoc=\"&lt;!DOCTYPE html&gt;\n",
       "&lt;head&gt;    \n",
       "    &lt;meta http-equiv=&quot;content-type&quot; content=&quot;text/html; charset=UTF-8&quot; /&gt;\n",
       "    \n",
       "        &lt;script&gt;\n",
       "            L_NO_TOUCH = false;\n",
       "            L_DISABLE_3D = false;\n",
       "        &lt;/script&gt;\n",
       "    \n",
       "    &lt;style&gt;html, body {width: 100%;height: 100%;margin: 0;padding: 0;}&lt;/style&gt;\n",
       "    &lt;style&gt;#map {position:absolute;top:0;bottom:0;right:0;left:0;}&lt;/style&gt;\n",
       "    &lt;script src=&quot;https://cdn.jsdelivr.net/npm/leaflet@1.6.0/dist/leaflet.js&quot;&gt;&lt;/script&gt;\n",
       "    &lt;script src=&quot;https://code.jquery.com/jquery-1.12.4.min.js&quot;&gt;&lt;/script&gt;\n",
       "    &lt;script src=&quot;https://maxcdn.bootstrapcdn.com/bootstrap/3.2.0/js/bootstrap.min.js&quot;&gt;&lt;/script&gt;\n",
       "    &lt;script src=&quot;https://cdnjs.cloudflare.com/ajax/libs/Leaflet.awesome-markers/2.0.2/leaflet.awesome-markers.js&quot;&gt;&lt;/script&gt;\n",
       "    &lt;link rel=&quot;stylesheet&quot; href=&quot;https://cdn.jsdelivr.net/npm/leaflet@1.6.0/dist/leaflet.css&quot;/&gt;\n",
       "    &lt;link rel=&quot;stylesheet&quot; href=&quot;https://maxcdn.bootstrapcdn.com/bootstrap/3.2.0/css/bootstrap.min.css&quot;/&gt;\n",
       "    &lt;link rel=&quot;stylesheet&quot; href=&quot;https://maxcdn.bootstrapcdn.com/bootstrap/3.2.0/css/bootstrap-theme.min.css&quot;/&gt;\n",
       "    &lt;link rel=&quot;stylesheet&quot; href=&quot;https://maxcdn.bootstrapcdn.com/font-awesome/4.6.3/css/font-awesome.min.css&quot;/&gt;\n",
       "    &lt;link rel=&quot;stylesheet&quot; href=&quot;https://cdnjs.cloudflare.com/ajax/libs/Leaflet.awesome-markers/2.0.2/leaflet.awesome-markers.css&quot;/&gt;\n",
       "    &lt;link rel=&quot;stylesheet&quot; href=&quot;https://cdn.jsdelivr.net/gh/python-visualization/folium/folium/templates/leaflet.awesome.rotate.min.css&quot;/&gt;\n",
       "    \n",
       "            &lt;meta name=&quot;viewport&quot; content=&quot;width=device-width,\n",
       "                initial-scale=1.0, maximum-scale=1.0, user-scalable=no&quot; /&gt;\n",
       "            &lt;style&gt;\n",
       "                #map_b7f6ff31e8287cb96d33ebe5d8b95dc5 {\n",
       "                    position: relative;\n",
       "                    width: 100.0%;\n",
       "                    height: 100.0%;\n",
       "                    left: 0.0%;\n",
       "                    top: 0.0%;\n",
       "                }\n",
       "            &lt;/style&gt;\n",
       "        \n",
       "    &lt;script src=&quot;https://cdn.jsdelivr.net/gh/python-visualization/folium@main/folium/templates/leaflet_heat.min.js&quot;&gt;&lt;/script&gt;\n",
       "&lt;/head&gt;\n",
       "&lt;body&gt;    \n",
       "    \n",
       "             &lt;h3 align=&quot;center&quot; style=&quot;font-size:16&quot;&gt;&lt;b&gt;Heatmap Over the Best Ranked Universities in Europe&lt;/b&gt;&lt;/h3&gt;\n",
       "             \n",
       "    \n",
       "            &lt;div class=&quot;folium-map&quot; id=&quot;map_b7f6ff31e8287cb96d33ebe5d8b95dc5&quot; &gt;&lt;/div&gt;\n",
       "        \n",
       "&lt;/body&gt;\n",
       "&lt;script&gt;    \n",
       "    \n",
       "            var map_b7f6ff31e8287cb96d33ebe5d8b95dc5 = L.map(\n",
       "                &quot;map_b7f6ff31e8287cb96d33ebe5d8b95dc5&quot;,\n",
       "                {\n",
       "                    center: [0, 0],\n",
       "                    crs: L.CRS.EPSG3857,\n",
       "                    zoom: 1,\n",
       "                    zoomControl: true,\n",
       "                    preferCanvas: false,\n",
       "                }\n",
       "            );\n",
       "\n",
       "            \n",
       "\n",
       "        \n",
       "    \n",
       "            var tile_layer_2588950193421b5b0012305cca42561b = L.tileLayer(\n",
       "                &quot;https://stamen-tiles-{s}.a.ssl.fastly.net/toner/{z}/{x}/{y}.png&quot;,\n",
       "                {&quot;attribution&quot;: &quot;Map tiles by \\u003ca href=\\&quot;http://stamen.com\\&quot;\\u003eStamen Design\\u003c/a\\u003e, under \\u003ca href=\\&quot;http://creativecommons.org/licenses/by/3.0\\&quot;\\u003eCC BY 3.0\\u003c/a\\u003e. Data by \\u0026copy; \\u003ca href=\\&quot;http://openstreetmap.org\\&quot;\\u003eOpenStreetMap\\u003c/a\\u003e, under \\u003ca href=\\&quot;http://www.openstreetmap.org/copyright\\&quot;\\u003eODbL\\u003c/a\\u003e.&quot;, &quot;detectRetina&quot;: false, &quot;maxNativeZoom&quot;: 18, &quot;maxZoom&quot;: 18, &quot;minZoom&quot;: 0, &quot;noWrap&quot;: false, &quot;opacity&quot;: 1, &quot;subdomains&quot;: &quot;abc&quot;, &quot;tms&quot;: false}\n",
       "            ).addTo(map_b7f6ff31e8287cb96d33ebe5d8b95dc5);\n",
       "        \n",
       "    \n",
       "            var feature_group_0d4b8a3724602838a8851e7eb3922ff7 = L.featureGroup(\n",
       "                {}\n",
       "            ).addTo(map_b7f6ff31e8287cb96d33ebe5d8b95dc5);\n",
       "        \n",
       "    \n",
       "            var heat_map_1f36d01bd2eb955b6548a84ea3a3e3fa = L.heatLayer(\n",
       "                [[34.13701375, -118.1252882487961, 99.0], [51.75254605, -1.2143299631547009, 98.0], [37.43131385, -122.16936535498309, 97.0], [52.2006233, 0.1104744, 96.0], [42.3582529, -71.0966272383055, 95.0], [42.36790855, -71.12678237443698, 94.0], [40.33867515, -74.65836549131683, 93.0], [51.4989595, -0.1756412597879449, 92.0], [41.79139685, -87.60084387193544, 90.0], [39.33020225, -76.62185357858337, 89.0], [41.25713055, -72.98966960152231, 88.0], [37.8753497, -122.23963364918777, 87.0], [51.52420305, -0.1330007242592954, 86.0], [40.8176657, -73.95851439291599, 85.0], [34.070877749999994, -118.44685070595054, 84.0], [39.9493382, -75.18964402998125, 83.0], [42.4505507, -76.47835129554275, 82.0], [43.663462, -79.39775966248058, 81.0], [36.00015569999999, -78.94422972195878, 80.0], [42.2942142, -83.71003893509601, 79.0], [40.4441897, -79.94271918393466, 78.0], [51.5143114, -0.1167810548107327, 77.0], [55.94407645, -3.1883735563964555, 76.0], [42.0551164, -87.67581113482166, 75.0], [1.2962018, 103.7768994378476, 74.0], [51.5060001, -0.1121582948025203, 73.0], [59.21954955, 17.94005487275674, 72.0], [48.13005, 11.564966405053084, 71.0], [40.72925325, -73.99625393609625, 70.0], [46.5186594, 6.566561505148001, 69.0], [47.6543466, -122.3080605947304, 68.0], [-37.7970796, 144.96130134414312, 67.0], [49.25839375, -123.24658161001928, 66.0], [50.80571285, 3.291537448913976, 65.0], [40.09911835, -88.23851575614376, 64.0], [41.11442525, -83.16686666639325, 63.0], [45.50691775, -73.5791162596496, 62.0], [32.87924375, -117.23112468377349, 61.0], [34.414602450000004, -119.84581004701371, 61.0], [33.776033, -84.39884086001581, 59.0], [39.99171495, 116.3039349686354, 58.0], [35.71171565, 139.76374569517452, 57.0], [38.5217429, -121.7522493507393, 56.0], [54.0856448, 13.389089, 56.0], [30.2852198, -97.73389272663796, 54.0], [40.00229045, 116.3209629696906, 53.0], [52.5185813, 13.39287842853558, 51.0], [43.080274450000005, -89.43095871991434, 50.0], [41.8186395, -71.4088008716793, 49.0], [-35.28121335, 149.11677886464528, 48.0], [1.3078539, 103.7776795, 47.0], [48.841707150000005, 2.3447923126871286, 46.0], [1.3484104, 103.68293320728536, 45.0], [53.4657087, -2.232734319907597, 44.0], [-33.89593915, 151.18460132830086, 44.0], [52.36813335, 4.889804155733945, 42.0], [22.3386304, 114.2620337, 41.0], [-27.49741805, 153.01316955983583, 40.0], [38.64724015, -90.3084017323959, 40.0], [52.08340265, 5.148315067762755, 38.0], [35.90503535, -79.04775326525107, 37.0], [42.350189400000005, -71.10070118497421, 36.0], [51.99882735, 4.373960368154041, 35.0], [48.3785292, -92.83111715445486, 35.0], [52.168633850000006, 4.45966305742133, 33.0], [34.0218833, -118.28586662125, 32.0], [51.45760965, -2.6016348983421755, 31.0], [54.5622715, -1.2963556567496446, 30.0], [51.9228696, 4.487498568528366, 29.0], [-37.910776350000006, 145.13480648790716, 27.0], [53.21967825, 6.562514810379012, 26.0], [40.8025835, -77.85593833184565, 25.0], [55.87231535, -4.289219112981823, 24.0], [60.175648300000006, 24.953550020522076, 24.0], [48.53405945, 9.071244429234808, 22.0], [40.44415295, -79.96246095144505, 21.0], [52.3813073, -1.563956948163744, 20.0], [59.3508628, 18.033581405420463, 19.0], [55.6970372, 12.571574419652498, 18.0], [-33.91759945, 151.23126487290787, 18.0], [46.793058, 7.157106, 16.0], [37.2669545, 126.9844505, 15.0], [56.3398198, -2.811793705314982, 14.0], [36.14380105, -86.80281889095295, 13.0], [35.02704665, 135.78143727667532, 12.0], [50.84720265, 5.685941396293034, 12.0], [33.80045465, -84.31723780466274, 10.0], [55.7126504, 13.210758659399971, 10.0], [40.00570905, -83.02866465596318, 10.0], [50.7369302, -3.536476717021671, 7.0], [50.7338124, 7.1022465, 6.0], [38.90893925, -77.07457962060826, 6.0], [43.2639397, -79.917825231868, 6.0], [53.3815327, -1.4806602, 3.0], [51.5247272, -0.0393103466301624, 2.0], [51.5411003, 9.948200846079496, 1.0], [42.7024238, -84.48032837503001, 1.0], [47.5612651, 7.5752961, 1.0], [34.6742703, -1.92086, 1.0], [29.71679145, -95.40478113393792, 1.0]],\n",
       "                {&quot;blur&quot;: 12, &quot;maxZoom&quot;: 18, &quot;minOpacity&quot;: 0.2, &quot;radius&quot;: 25}\n",
       "            ).addTo(feature_group_0d4b8a3724602838a8851e7eb3922ff7);\n",
       "        \n",
       "    \n",
       "            var layer_control_cf05813fa7f7f570f46fbb2c309dba49 = {\n",
       "                base_layers : {\n",
       "                    &quot;stamentoner&quot; : tile_layer_2588950193421b5b0012305cca42561b,\n",
       "                },\n",
       "                overlays :  {\n",
       "                    &quot;macro_element_0d4b8a3724602838a8851e7eb3922ff7&quot; : feature_group_0d4b8a3724602838a8851e7eb3922ff7,\n",
       "                },\n",
       "            };\n",
       "            L.control.layers(\n",
       "                layer_control_cf05813fa7f7f570f46fbb2c309dba49.base_layers,\n",
       "                layer_control_cf05813fa7f7f570f46fbb2c309dba49.overlays,\n",
       "                {&quot;autoZIndex&quot;: true, &quot;collapsed&quot;: true, &quot;position&quot;: &quot;topright&quot;}\n",
       "            ).addTo(map_b7f6ff31e8287cb96d33ebe5d8b95dc5);\n",
       "        \n",
       "&lt;/script&gt;\" style=\"position:absolute;width:100%;height:100%;left:0;top:0;border:none !important;\" allowfullscreen webkitallowfullscreen mozallowfullscreen></iframe></div></div>"
      ],
      "text/plain": [
       "<folium.folium.Map at 0x7fb950fdf520>"
      ]
     },
     "execution_count": 27,
     "metadata": {},
     "output_type": "execute_result"
    }
   ],
   "source": [
    "hm = folium.Map(tiles='stamentoner',\n",
    "               zoom_start=3.4)\n",
    "title_html = '''\n",
    "             <h3 align=\"center\" style=\"font-size:16\"><b>{}</b></h3>\n",
    "             '''.format('Heatmap Over the Best Ranked Universities in Europe')   \n",
    "\n",
    "HeatMap(df_heatmap, min_opacity=0.2, blur=12).add_to(folium.FeatureGroup().add_to(hm))\n",
    "folium.LayerControl().add_to(hm)\n",
    "\n",
    "hm.get_root().html.add_child(folium.Element(title_html))\n",
    "\n",
    "hm"
   ]
  },
  {
   "cell_type": "markdown",
   "id": "4d975e96",
   "metadata": {},
   "source": [
    "By zooming in on Europe, we can see that the UK has the best or most top ranked universities in Europe, so in this report UK and Europe have been splitted."
   ]
  },
  {
   "cell_type": "code",
   "execution_count": 28,
   "id": "3d4c65c2",
   "metadata": {},
   "outputs": [],
   "source": [
    "import pycountry_convert as pc\n",
    "\n",
    "def country_to_continent(country_name):\n",
    "    try:\n",
    "        country_alpha2 = pc.country_name_to_country_alpha2(country_name)\n",
    "        country_continent_code = pc.country_alpha2_to_continent_code(country_alpha2)\n",
    "        country_continent_name = pc.convert_continent_code_to_continent_name(country_continent_code)\n",
    "        return country_continent_name\n",
    "    \n",
    "    except:\n",
    "        raise ValueError(country_name)"
   ]
  },
  {
   "cell_type": "markdown",
   "id": "8315a560",
   "metadata": {},
   "source": [
    "#### Changing some spelling errors in the dataset"
   ]
  },
  {
   "cell_type": "code",
   "execution_count": 29,
   "id": "9b9509f3",
   "metadata": {},
   "outputs": [],
   "source": [
    "df.country = df.country.replace('Republic of Ireland', 'Ireland')"
   ]
  },
  {
   "cell_type": "code",
   "execution_count": 30,
   "id": "19143b81",
   "metadata": {},
   "outputs": [],
   "source": [
    "vec_country_to_continent = np.vectorize(country_to_continent)"
   ]
  },
  {
   "cell_type": "code",
   "execution_count": 31,
   "id": "1926e195",
   "metadata": {},
   "outputs": [],
   "source": [
    "df.loc[df.country == 'Unisted States of America', 'country'] = 'United States of America'\n",
    "df.loc[df.country == 'Unted Kingdom', 'country'] = 'United Kingdom'\n",
    "continent = vec_country_to_continent(df.country)\n",
    "df['continent'] = continent"
   ]
  },
  {
   "cell_type": "code",
   "execution_count": 32,
   "id": "e8b9e8b2",
   "metadata": {},
   "outputs": [],
   "source": [
    "df.loc[df.country == 'United Kingdom', 'continent'] = 'UK'"
   ]
  },
  {
   "cell_type": "code",
   "execution_count": 33,
   "id": "ce2f22a8",
   "metadata": {},
   "outputs": [],
   "source": [
    "df.continent = df.continent.astype('category')"
   ]
  },
  {
   "cell_type": "code",
   "execution_count": 34,
   "id": "cdc11ac5",
   "metadata": {},
   "outputs": [],
   "source": [
    "df = pd.concat([df, pd.get_dummies(df.continent)], axis=1)"
   ]
  },
  {
   "cell_type": "markdown",
   "id": "18c292e0",
   "metadata": {},
   "source": [
    "### Rechanging the columns, so it's more convenient in the ML section"
   ]
  },
  {
   "cell_type": "code",
   "execution_count": 35,
   "id": "a8dffbde",
   "metadata": {},
   "outputs": [],
   "source": [
    "cols = df.columns.to_list()"
   ]
  },
  {
   "cell_type": "code",
   "execution_count": 36,
   "id": "6bfa9203",
   "metadata": {},
   "outputs": [],
   "source": [
    "cols.remove('year')\n",
    "cols.remove('continent')"
   ]
  },
  {
   "cell_type": "code",
   "execution_count": 37,
   "id": "88bb3d90",
   "metadata": {},
   "outputs": [],
   "source": [
    "cols.insert(1, 'year')"
   ]
  },
  {
   "cell_type": "code",
   "execution_count": 38,
   "id": "00f6d369",
   "metadata": {},
   "outputs": [],
   "source": [
    "df = df[cols]"
   ]
  },
  {
   "cell_type": "code",
   "execution_count": 39,
   "id": "2756289d",
   "metadata": {},
   "outputs": [],
   "source": [
    "df['world_rank'] = df['world_rank'].str.replace('=', '')\n",
    "df['world_rank'] = df['world_rank'].str.extract('([0-9]*)', expand=False)\n",
    "df['world_rank'] = pd.to_numeric(df['world_rank'])\n",
    "df['international'] = df['international'].str.replace('-', '')\n",
    "df['international'] = pd.to_numeric(df['international'])\n",
    "df['income'] = df['income'].replace('-', np.nan)\n",
    "df['income'] = pd.to_numeric(df['income'])\n",
    "df['num_students'] = df['num_students'].str.replace(',', '')\n",
    "df['num_students'] = pd.to_numeric(df['num_students'])\n",
    "df['international_students'] = df['international_students'].str.replace('%', '')\n",
    "df['international_students'] = pd.to_numeric(df['international_students'])\n",
    "df['female_male_ratio'] = df['female_male_ratio'].replace('-', np.nan)\n",
    "df['female_ratio'] = df['female_male_ratio'].str.extract('([0-9]*)')\n",
    "df['female_ratio'] = pd.to_numeric(df['female_ratio'])\n",
    "df = df.drop(['female_male_ratio'], axis=1)"
   ]
  },
  {
   "cell_type": "code",
   "execution_count": 40,
   "id": "fb325501",
   "metadata": {},
   "outputs": [
    {
     "data": {
      "text/html": [
       "<div>\n",
       "<style scoped>\n",
       "    .dataframe tbody tr th:only-of-type {\n",
       "        vertical-align: middle;\n",
       "    }\n",
       "\n",
       "    .dataframe tbody tr th {\n",
       "        vertical-align: top;\n",
       "    }\n",
       "\n",
       "    .dataframe thead th {\n",
       "        text-align: right;\n",
       "    }\n",
       "</style>\n",
       "<table border=\"1\" class=\"dataframe\">\n",
       "  <thead>\n",
       "    <tr style=\"text-align: right;\">\n",
       "      <th></th>\n",
       "      <th>world_rank</th>\n",
       "      <th>year</th>\n",
       "      <th>teaching</th>\n",
       "      <th>international</th>\n",
       "      <th>research</th>\n",
       "      <th>citations</th>\n",
       "      <th>income</th>\n",
       "      <th>num_students</th>\n",
       "      <th>student_staff_ratio</th>\n",
       "      <th>international_students</th>\n",
       "      <th>Africa</th>\n",
       "      <th>Asia</th>\n",
       "      <th>Europe</th>\n",
       "      <th>North America</th>\n",
       "      <th>Oceania</th>\n",
       "      <th>South America</th>\n",
       "      <th>UK</th>\n",
       "      <th>female_ratio</th>\n",
       "    </tr>\n",
       "  </thead>\n",
       "  <tbody>\n",
       "    <tr>\n",
       "      <th>count</th>\n",
       "      <td>2603.000000</td>\n",
       "      <td>2603.000000</td>\n",
       "      <td>2603.000000</td>\n",
       "      <td>2594.000000</td>\n",
       "      <td>2603.000000</td>\n",
       "      <td>2603.000000</td>\n",
       "      <td>2385.000000</td>\n",
       "      <td>2544.000000</td>\n",
       "      <td>2544.000000</td>\n",
       "      <td>2536.000000</td>\n",
       "      <td>2603.000000</td>\n",
       "      <td>2603.000000</td>\n",
       "      <td>2603.000000</td>\n",
       "      <td>2603.000000</td>\n",
       "      <td>2603.000000</td>\n",
       "      <td>2603.000000</td>\n",
       "      <td>2603.000000</td>\n",
       "      <td>2367.000000</td>\n",
       "    </tr>\n",
       "    <tr>\n",
       "      <th>mean</th>\n",
       "      <td>234.991164</td>\n",
       "      <td>2014.075682</td>\n",
       "      <td>37.801498</td>\n",
       "      <td>52.007440</td>\n",
       "      <td>35.910257</td>\n",
       "      <td>60.921629</td>\n",
       "      <td>48.979874</td>\n",
       "      <td>23873.758648</td>\n",
       "      <td>18.445283</td>\n",
       "      <td>15.444006</td>\n",
       "      <td>0.011909</td>\n",
       "      <td>0.181329</td>\n",
       "      <td>0.323473</td>\n",
       "      <td>0.296197</td>\n",
       "      <td>0.056473</td>\n",
       "      <td>0.014983</td>\n",
       "      <td>0.115636</td>\n",
       "      <td>49.683988</td>\n",
       "    </tr>\n",
       "    <tr>\n",
       "      <th>std</th>\n",
       "      <td>160.721216</td>\n",
       "      <td>1.685733</td>\n",
       "      <td>17.604218</td>\n",
       "      <td>22.103825</td>\n",
       "      <td>21.254805</td>\n",
       "      <td>23.073219</td>\n",
       "      <td>21.179938</td>\n",
       "      <td>17675.946877</td>\n",
       "      <td>11.458698</td>\n",
       "      <td>10.591464</td>\n",
       "      <td>0.108499</td>\n",
       "      <td>0.385365</td>\n",
       "      <td>0.467891</td>\n",
       "      <td>0.456667</td>\n",
       "      <td>0.230878</td>\n",
       "      <td>0.121507</td>\n",
       "      <td>0.319849</td>\n",
       "      <td>10.859621</td>\n",
       "    </tr>\n",
       "    <tr>\n",
       "      <th>min</th>\n",
       "      <td>1.000000</td>\n",
       "      <td>2011.000000</td>\n",
       "      <td>9.900000</td>\n",
       "      <td>7.100000</td>\n",
       "      <td>2.900000</td>\n",
       "      <td>1.200000</td>\n",
       "      <td>24.200000</td>\n",
       "      <td>462.000000</td>\n",
       "      <td>0.600000</td>\n",
       "      <td>0.000000</td>\n",
       "      <td>0.000000</td>\n",
       "      <td>0.000000</td>\n",
       "      <td>0.000000</td>\n",
       "      <td>0.000000</td>\n",
       "      <td>0.000000</td>\n",
       "      <td>0.000000</td>\n",
       "      <td>0.000000</td>\n",
       "      <td>1.000000</td>\n",
       "    </tr>\n",
       "    <tr>\n",
       "      <th>25%</th>\n",
       "      <td>109.000000</td>\n",
       "      <td>2013.000000</td>\n",
       "      <td>24.700000</td>\n",
       "      <td>33.425000</td>\n",
       "      <td>19.600000</td>\n",
       "      <td>45.500000</td>\n",
       "      <td>33.000000</td>\n",
       "      <td>12637.750000</td>\n",
       "      <td>11.975000</td>\n",
       "      <td>8.000000</td>\n",
       "      <td>0.000000</td>\n",
       "      <td>0.000000</td>\n",
       "      <td>0.000000</td>\n",
       "      <td>0.000000</td>\n",
       "      <td>0.000000</td>\n",
       "      <td>0.000000</td>\n",
       "      <td>0.000000</td>\n",
       "      <td>46.000000</td>\n",
       "    </tr>\n",
       "    <tr>\n",
       "      <th>50%</th>\n",
       "      <td>201.000000</td>\n",
       "      <td>2014.000000</td>\n",
       "      <td>33.900000</td>\n",
       "      <td>50.300000</td>\n",
       "      <td>30.500000</td>\n",
       "      <td>62.500000</td>\n",
       "      <td>41.000000</td>\n",
       "      <td>20851.000000</td>\n",
       "      <td>16.100000</td>\n",
       "      <td>13.000000</td>\n",
       "      <td>0.000000</td>\n",
       "      <td>0.000000</td>\n",
       "      <td>0.000000</td>\n",
       "      <td>0.000000</td>\n",
       "      <td>0.000000</td>\n",
       "      <td>0.000000</td>\n",
       "      <td>0.000000</td>\n",
       "      <td>52.000000</td>\n",
       "    </tr>\n",
       "    <tr>\n",
       "      <th>75%</th>\n",
       "      <td>301.000000</td>\n",
       "      <td>2016.000000</td>\n",
       "      <td>46.400000</td>\n",
       "      <td>69.000000</td>\n",
       "      <td>47.250000</td>\n",
       "      <td>79.050000</td>\n",
       "      <td>59.000000</td>\n",
       "      <td>29991.000000</td>\n",
       "      <td>21.500000</td>\n",
       "      <td>21.000000</td>\n",
       "      <td>0.000000</td>\n",
       "      <td>0.000000</td>\n",
       "      <td>1.000000</td>\n",
       "      <td>1.000000</td>\n",
       "      <td>0.000000</td>\n",
       "      <td>0.000000</td>\n",
       "      <td>0.000000</td>\n",
       "      <td>56.000000</td>\n",
       "    </tr>\n",
       "    <tr>\n",
       "      <th>max</th>\n",
       "      <td>601.000000</td>\n",
       "      <td>2016.000000</td>\n",
       "      <td>99.700000</td>\n",
       "      <td>100.000000</td>\n",
       "      <td>99.400000</td>\n",
       "      <td>100.000000</td>\n",
       "      <td>100.000000</td>\n",
       "      <td>379231.000000</td>\n",
       "      <td>162.600000</td>\n",
       "      <td>82.000000</td>\n",
       "      <td>1.000000</td>\n",
       "      <td>1.000000</td>\n",
       "      <td>1.000000</td>\n",
       "      <td>1.000000</td>\n",
       "      <td>1.000000</td>\n",
       "      <td>1.000000</td>\n",
       "      <td>1.000000</td>\n",
       "      <td>100.000000</td>\n",
       "    </tr>\n",
       "  </tbody>\n",
       "</table>\n",
       "</div>"
      ],
      "text/plain": [
       "        world_rank         year     teaching  international     research  \\\n",
       "count  2603.000000  2603.000000  2603.000000    2594.000000  2603.000000   \n",
       "mean    234.991164  2014.075682    37.801498      52.007440    35.910257   \n",
       "std     160.721216     1.685733    17.604218      22.103825    21.254805   \n",
       "min       1.000000  2011.000000     9.900000       7.100000     2.900000   \n",
       "25%     109.000000  2013.000000    24.700000      33.425000    19.600000   \n",
       "50%     201.000000  2014.000000    33.900000      50.300000    30.500000   \n",
       "75%     301.000000  2016.000000    46.400000      69.000000    47.250000   \n",
       "max     601.000000  2016.000000    99.700000     100.000000    99.400000   \n",
       "\n",
       "         citations       income   num_students  student_staff_ratio  \\\n",
       "count  2603.000000  2385.000000    2544.000000          2544.000000   \n",
       "mean     60.921629    48.979874   23873.758648            18.445283   \n",
       "std      23.073219    21.179938   17675.946877            11.458698   \n",
       "min       1.200000    24.200000     462.000000             0.600000   \n",
       "25%      45.500000    33.000000   12637.750000            11.975000   \n",
       "50%      62.500000    41.000000   20851.000000            16.100000   \n",
       "75%      79.050000    59.000000   29991.000000            21.500000   \n",
       "max     100.000000   100.000000  379231.000000           162.600000   \n",
       "\n",
       "       international_students       Africa         Asia       Europe  \\\n",
       "count             2536.000000  2603.000000  2603.000000  2603.000000   \n",
       "mean                15.444006     0.011909     0.181329     0.323473   \n",
       "std                 10.591464     0.108499     0.385365     0.467891   \n",
       "min                  0.000000     0.000000     0.000000     0.000000   \n",
       "25%                  8.000000     0.000000     0.000000     0.000000   \n",
       "50%                 13.000000     0.000000     0.000000     0.000000   \n",
       "75%                 21.000000     0.000000     0.000000     1.000000   \n",
       "max                 82.000000     1.000000     1.000000     1.000000   \n",
       "\n",
       "       North America      Oceania  South America           UK  female_ratio  \n",
       "count    2603.000000  2603.000000    2603.000000  2603.000000   2367.000000  \n",
       "mean        0.296197     0.056473       0.014983     0.115636     49.683988  \n",
       "std         0.456667     0.230878       0.121507     0.319849     10.859621  \n",
       "min         0.000000     0.000000       0.000000     0.000000      1.000000  \n",
       "25%         0.000000     0.000000       0.000000     0.000000     46.000000  \n",
       "50%         0.000000     0.000000       0.000000     0.000000     52.000000  \n",
       "75%         1.000000     0.000000       0.000000     0.000000     56.000000  \n",
       "max         1.000000     1.000000       1.000000     1.000000    100.000000  "
      ]
     },
     "execution_count": 40,
     "metadata": {},
     "output_type": "execute_result"
    }
   ],
   "source": [
    "df.describe()"
   ]
  },
  {
   "cell_type": "code",
   "execution_count": 41,
   "id": "c62f8e26",
   "metadata": {},
   "outputs": [
    {
     "data": {
      "image/png": "[encoded data removed]",
      "text/plain": [
       "<Figure size 432x288 with 1 Axes>"
      ]
     },
     "metadata": {},
     "output_type": "display_data"
    },
    {
     "data": {
      "image/png": "[encoded data removed]",
      "text/plain": [
       "<Figure size 432x288 with 1 Axes>"
      ]
     },
     "metadata": {},
     "output_type": "display_data"
    }
   ],
   "source": [
    "for feature in ['num_students', 'student_staff_ratio']:\n",
    "    fig, ax = plt.subplots(figsize=(6, 4))\n",
    "    ax.hist(df[feature])\n",
    "    ax.spines['right'].set_visible(False)\n",
    "    ax.spines['top'].set_visible(False)\n",
    "    plt.title(feature)\n",
    "    ax.set_facecolor(color='#f5f5f5')\n",
    "    fig.patch.set_facecolor('#f5f5f5')\n",
    "\n",
    "plt.show()"
   ]
  },
  {
   "cell_type": "code",
   "execution_count": 42,
   "id": "214a3746",
   "metadata": {},
   "outputs": [
    {
     "data": {
      "text/plain": [
       "0.00       462.00\n",
       "0.01      2400.00\n",
       "0.25     12637.75\n",
       "0.50     20851.00\n",
       "0.75     29991.00\n",
       "0.99     83236.00\n",
       "1.00    379231.00\n",
       "Name: num_students, dtype: float64"
      ]
     },
     "execution_count": 42,
     "metadata": {},
     "output_type": "execute_result"
    }
   ],
   "source": [
    "df.num_students.quantile([0, 0.01, 0.25, 0.5, 0.75, 0.99, 1])"
   ]
  },
  {
   "cell_type": "code",
   "execution_count": 43,
   "id": "595a86d5",
   "metadata": {},
   "outputs": [
    {
     "data": {
      "text/plain": [
       "Text(0.5, 1.0, 'Original Features Correlation with Ranking')"
      ]
     },
     "execution_count": 43,
     "metadata": {},
     "output_type": "execute_result"
    },
    {
     "data": {
      "image/png": "[encoded data removed]",
      "text/plain": [
       "<Figure size 576x288 with 2 Axes>"
      ]
     },
     "metadata": {
      "needs_background": "light"
     },
     "output_type": "display_data"
    }
   ],
   "source": [
    "plt.figure(figsize=(8, 4))\n",
    "heatmap = sns.heatmap(df.iloc[:, [0, 3, 4, 5, 6, 7, 8, 9, 10, 11, -1]].corr()[['world_rank']].sort_values(by='world_rank'),\n",
    "                     vmin=-1, vmax=0.5, annot=True, cmap='winter')\n",
    "\n",
    "heatmap.set_title('Original Features Correlation with Ranking', fontdict={'fontsize': 18}, pad=24)\n",
    "\n"
   ]
  },
  {
   "cell_type": "code",
   "execution_count": 44,
   "id": "c94d2410",
   "metadata": {},
   "outputs": [],
   "source": [
    "df = df[(df['num_students'] <= 100000) & \n",
    "            (df['student_staff_ratio'] <= 70)].copy()"
   ]
  },
  {
   "cell_type": "code",
   "execution_count": 45,
   "id": "71355279",
   "metadata": {},
   "outputs": [],
   "source": [
    "nan_val_columns = ['num_students', 'student_staff_ratio', 'international_students', 'female_ratio',\n",
    "                  'income', 'international']\n",
    "for col in nan_val_columns:\n",
    "    df[col] = df[col].fillna(method='ffill').fillna(method='bfill')"
   ]
  },
  {
   "cell_type": "markdown",
   "id": "82b5157c",
   "metadata": {},
   "source": [
    "### Testing all the regressors on the different years models"
   ]
  },
  {
   "cell_type": "code",
   "execution_count": 46,
   "id": "9fc72cbb",
   "metadata": {},
   "outputs": [],
   "source": [
    "def reg_rsquare_func(model, df):\n",
    "    # Filtering the years of the dataset\n",
    "    df_2011 = df[df['year'] == 2011].copy()\n",
    "    df_2012 = df[df['year'] == 2012].copy()\n",
    "    df_2013 = df[df['year'] == 2013].copy()\n",
    "    df_2014 = df[df['year'] == 2014].copy()\n",
    "    df_2015 = df[df['year'] == 2015].copy()\n",
    "    df_2016 = df[df['year'] == 2016].copy()\n",
    "    # X values\n",
    "    X_2011_train = df_2011.iloc[:, 4:].values\n",
    "    X_2012 = df_2012.iloc[:, 4:].values\n",
    "    X_2013 = df_2013.iloc[:, 4:].values\n",
    "    X_2014 = df_2014.iloc[:, 4:].values\n",
    "    X_2015 = df_2015.iloc[:, 4:].values\n",
    "    X_2016 = df_2016.iloc[:, 4:].values\n",
    "    # y values\n",
    "    y_2011_train = df_2011.iloc[:, 0].values\n",
    "    y_2012 = df_2012.iloc[:, 0].values\n",
    "    y_2013 = df_2013.iloc[:, 0].values\n",
    "    y_2014 = df_2014.iloc[:, 0].values\n",
    "    y_2015 = df_2015.iloc[:, 0].values\n",
    "    y_2016 = df_2016.iloc[:, 0].values\n",
    "    # Splitting the datasets\n",
    "    X_2012_train, X_2012_test, y_2012_train, y_2012_test = train_test_split(X_2012, y_2012, test_size=.2, random_state=0)\n",
    "    X_2013_train, X_2013_test, y_2013_train, y_2013_test = train_test_split(X_2013, y_2013, test_size=.2, random_state=0)\n",
    "    X_2014_train, X_2014_test, y_2014_train, y_2014_test = train_test_split(X_2014, y_2014, test_size=.2, random_state=0)\n",
    "    X_2015_train, X_2015_test, y_2015_train, y_2015_test = train_test_split(X_2015, y_2015, test_size=.2, random_state=0)\n",
    "    X_2016_train, X_2016_test, y_2016_train, y_2016_test = train_test_split(X_2016, y_2016, test_size=.2, random_state=0)\n",
    "    \n",
    "    rsquare_scores = list()\n",
    "    index_years = list()\n",
    "    \n",
    "    for i in range(1, 7):\n",
    "        reg_pipe = Pipeline(steps= [('scale', StandardScaler()), ('Reg model', model())])\n",
    "        reg_pipe.fit(eval(f\"X_201{i}_train\"), eval(f\"y_201{i}_train\"))\n",
    "        for j in range(1, 7):\n",
    "            if i == j or i > j:\n",
    "                continue\n",
    "            else:\n",
    "                rsquare_scores.append(reg_pipe.score(eval(f\"X_201{j}_test\"), eval(f\"y_201{j}_test\")))\n",
    "                index_years.append(f\"201{i}-201{j}\")\n",
    "    return [rsquare_scores, index_years]"
   ]
  },
  {
   "cell_type": "code",
   "execution_count": 47,
   "id": "3442b74c",
   "metadata": {},
   "outputs": [],
   "source": [
    "reg_models = [LinearRegression, RandomForestRegressor, XGBRegressor, Lars, Ridge, GammaRegressor, SGDRegressor]"
   ]
  },
  {
   "cell_type": "code",
   "execution_count": 48,
   "id": "101f427b",
   "metadata": {},
   "outputs": [],
   "source": [
    "# Looping through everything\n",
    "rsquare_data = list()\n",
    "for model in reg_models:\n",
    "    rsquare_data.append(reg_rsquare_func(model, df)[0])"
   ]
  },
  {
   "cell_type": "code",
   "execution_count": 49,
   "id": "28f32356",
   "metadata": {},
   "outputs": [],
   "source": [
    "df_rsquare = pd.DataFrame(np.array(rsquare_data).T, index=reg_rsquare_func(Lars, df)[1],\n",
    "                          columns=['Linear Regression', 'Random Forest Reg', 'XGB Reg', 'Lars Reg',\n",
    "                                          'Ridge Reg', 'Gamma Reg', 'SGD Reg'])"
   ]
  },
  {
   "cell_type": "code",
   "execution_count": 50,
   "id": "b46afc48",
   "metadata": {},
   "outputs": [],
   "source": [
    "df_rsquare['year_difference'] = abs(df_rsquare.index.str[:4].astype(int) - df_rsquare.index.str[5:].astype(int))"
   ]
  },
  {
   "cell_type": "code",
   "execution_count": 51,
   "id": "b20e6b8b",
   "metadata": {},
   "outputs": [
    {
     "data": {
      "text/html": [
       "<div>\n",
       "<style scoped>\n",
       "    .dataframe tbody tr th:only-of-type {\n",
       "        vertical-align: middle;\n",
       "    }\n",
       "\n",
       "    .dataframe tbody tr th {\n",
       "        vertical-align: top;\n",
       "    }\n",
       "\n",
       "    .dataframe thead th {\n",
       "        text-align: right;\n",
       "    }\n",
       "</style>\n",
       "<table border=\"1\" class=\"dataframe\">\n",
       "  <thead>\n",
       "    <tr style=\"text-align: right;\">\n",
       "      <th></th>\n",
       "      <th>Linear Regression</th>\n",
       "      <th>Random Forest Reg</th>\n",
       "      <th>XGB Reg</th>\n",
       "      <th>Lars Reg</th>\n",
       "      <th>Ridge Reg</th>\n",
       "      <th>Gamma Reg</th>\n",
       "      <th>SGD Reg</th>\n",
       "      <th>year_difference</th>\n",
       "    </tr>\n",
       "  </thead>\n",
       "  <tbody>\n",
       "    <tr>\n",
       "      <th>Linear Regression</th>\n",
       "      <td>1.000000</td>\n",
       "      <td>0.932156</td>\n",
       "      <td>0.949965</td>\n",
       "      <td>0.982448</td>\n",
       "      <td>0.999993</td>\n",
       "      <td>0.096621</td>\n",
       "      <td>0.999966</td>\n",
       "      <td>-0.839445</td>\n",
       "    </tr>\n",
       "    <tr>\n",
       "      <th>Random Forest Reg</th>\n",
       "      <td>0.932156</td>\n",
       "      <td>1.000000</td>\n",
       "      <td>0.996976</td>\n",
       "      <td>0.898777</td>\n",
       "      <td>0.933202</td>\n",
       "      <td>-0.198838</td>\n",
       "      <td>0.932322</td>\n",
       "      <td>-0.698314</td>\n",
       "    </tr>\n",
       "    <tr>\n",
       "      <th>XGB Reg</th>\n",
       "      <td>0.949965</td>\n",
       "      <td>0.996976</td>\n",
       "      <td>1.000000</td>\n",
       "      <td>0.919434</td>\n",
       "      <td>0.950859</td>\n",
       "      <td>-0.156790</td>\n",
       "      <td>0.949997</td>\n",
       "      <td>-0.722666</td>\n",
       "    </tr>\n",
       "    <tr>\n",
       "      <th>Lars Reg</th>\n",
       "      <td>0.982448</td>\n",
       "      <td>0.898777</td>\n",
       "      <td>0.919434</td>\n",
       "      <td>1.000000</td>\n",
       "      <td>0.982306</td>\n",
       "      <td>0.086372</td>\n",
       "      <td>0.982408</td>\n",
       "      <td>-0.805997</td>\n",
       "    </tr>\n",
       "    <tr>\n",
       "      <th>Ridge Reg</th>\n",
       "      <td>0.999993</td>\n",
       "      <td>0.933202</td>\n",
       "      <td>0.950859</td>\n",
       "      <td>0.982306</td>\n",
       "      <td>1.000000</td>\n",
       "      <td>0.094309</td>\n",
       "      <td>0.999975</td>\n",
       "      <td>-0.838432</td>\n",
       "    </tr>\n",
       "    <tr>\n",
       "      <th>Gamma Reg</th>\n",
       "      <td>0.096621</td>\n",
       "      <td>-0.198838</td>\n",
       "      <td>-0.156790</td>\n",
       "      <td>0.086372</td>\n",
       "      <td>0.094309</td>\n",
       "      <td>1.000000</td>\n",
       "      <td>0.098438</td>\n",
       "      <td>-0.172366</td>\n",
       "    </tr>\n",
       "    <tr>\n",
       "      <th>SGD Reg</th>\n",
       "      <td>0.999966</td>\n",
       "      <td>0.932322</td>\n",
       "      <td>0.949997</td>\n",
       "      <td>0.982408</td>\n",
       "      <td>0.999975</td>\n",
       "      <td>0.098438</td>\n",
       "      <td>1.000000</td>\n",
       "      <td>-0.837568</td>\n",
       "    </tr>\n",
       "    <tr>\n",
       "      <th>year_difference</th>\n",
       "      <td>-0.839445</td>\n",
       "      <td>-0.698314</td>\n",
       "      <td>-0.722666</td>\n",
       "      <td>-0.805997</td>\n",
       "      <td>-0.838432</td>\n",
       "      <td>-0.172366</td>\n",
       "      <td>-0.837568</td>\n",
       "      <td>1.000000</td>\n",
       "    </tr>\n",
       "  </tbody>\n",
       "</table>\n",
       "</div>"
      ],
      "text/plain": [
       "                   Linear Regression  Random Forest Reg   XGB Reg  Lars Reg  \\\n",
       "Linear Regression           1.000000           0.932156  0.949965  0.982448   \n",
       "Random Forest Reg           0.932156           1.000000  0.996976  0.898777   \n",
       "XGB Reg                     0.949965           0.996976  1.000000  0.919434   \n",
       "Lars Reg                    0.982448           0.898777  0.919434  1.000000   \n",
       "Ridge Reg                   0.999993           0.933202  0.950859  0.982306   \n",
       "Gamma Reg                   0.096621          -0.198838 -0.156790  0.086372   \n",
       "SGD Reg                     0.999966           0.932322  0.949997  0.982408   \n",
       "year_difference            -0.839445          -0.698314 -0.722666 -0.805997   \n",
       "\n",
       "                   Ridge Reg  Gamma Reg   SGD Reg  year_difference  \n",
       "Linear Regression   0.999993   0.096621  0.999966        -0.839445  \n",
       "Random Forest Reg   0.933202  -0.198838  0.932322        -0.698314  \n",
       "XGB Reg             0.950859  -0.156790  0.949997        -0.722666  \n",
       "Lars Reg            0.982306   0.086372  0.982408        -0.805997  \n",
       "Ridge Reg           1.000000   0.094309  0.999975        -0.838432  \n",
       "Gamma Reg           0.094309   1.000000  0.098438        -0.172366  \n",
       "SGD Reg             0.999975   0.098438  1.000000        -0.837568  \n",
       "year_difference    -0.838432  -0.172366 -0.837568         1.000000  "
      ]
     },
     "execution_count": 51,
     "metadata": {},
     "output_type": "execute_result"
    }
   ],
   "source": [
    "df_rsquare.corr()"
   ]
  },
  {
   "cell_type": "code",
   "execution_count": 52,
   "id": "afad2826",
   "metadata": {},
   "outputs": [
    {
     "data": {
      "text/plain": [
       "Linear Regression    0.514350\n",
       "Random Forest Reg    0.341862\n",
       "XGB Reg              0.396813\n",
       "Lars Reg             0.515785\n",
       "Ridge Reg            0.513207\n",
       "Gamma Reg            0.747036\n",
       "SGD Reg              0.515552\n",
       "dtype: float64"
      ]
     },
     "execution_count": 52,
     "metadata": {},
     "output_type": "execute_result"
    }
   ],
   "source": [
    "df_rsquare.groupby('year_difference').median().mean()"
   ]
  },
  {
   "cell_type": "code",
   "execution_count": 53,
   "id": "3c70cd49",
   "metadata": {},
   "outputs": [
    {
     "data": {
      "text/plain": [
       "Linear Regression    0.514350\n",
       "Random Forest Reg    0.341862\n",
       "XGB Reg              0.396813\n",
       "Lars Reg             0.515785\n",
       "Ridge Reg            0.513207\n",
       "Gamma Reg            0.747036\n",
       "SGD Reg              0.515552\n",
       "dtype: float64"
      ]
     },
     "execution_count": 53,
     "metadata": {},
     "output_type": "execute_result"
    }
   ],
   "source": [
    "df_rsquare.groupby('year_difference').median().mean()"
   ]
  },
  {
   "cell_type": "code",
   "execution_count": 54,
   "id": "7c2932c9",
   "metadata": {
    "scrolled": false
   },
   "outputs": [
    {
     "data": {
      "image/png": "[encoded data removed]",
      "text/plain": [
       "<Figure size 864x576 with 2 Axes>"
      ]
     },
     "metadata": {
      "needs_background": "light"
     },
     "output_type": "display_data"
    }
   ],
   "source": [
    "plt.figure(figsize=(12, 8))\n",
    "sns.heatmap(df_rsquare.sort_values('year_difference', ascending=False).iloc[:, :-1], annot=True, cmap='Blues')\n",
    "plt.title('R^2 goodness of fit', size=18, pad=25)\n",
    "# X axis\n",
    "plt.xlabel('Regression models', size=16)\n",
    "# y axis\n",
    "plt.ylabel('Year comparisons', size=16)\n",
    "\n",
    "plt.show()"
   ]
  },
  {
   "cell_type": "code",
   "execution_count": 55,
   "id": "e43dc6b3",
   "metadata": {},
   "outputs": [
    {
     "data": {
      "text/html": [
       "<div>\n",
       "<style scoped>\n",
       "    .dataframe tbody tr th:only-of-type {\n",
       "        vertical-align: middle;\n",
       "    }\n",
       "\n",
       "    .dataframe tbody tr th {\n",
       "        vertical-align: top;\n",
       "    }\n",
       "\n",
       "    .dataframe thead th {\n",
       "        text-align: right;\n",
       "    }\n",
       "</style>\n",
       "<table border=\"1\" class=\"dataframe\">\n",
       "  <thead>\n",
       "    <tr style=\"text-align: right;\">\n",
       "      <th></th>\n",
       "      <th>Linear Regression</th>\n",
       "      <th>Random Forest Reg</th>\n",
       "      <th>XGB Reg</th>\n",
       "      <th>Lars Reg</th>\n",
       "      <th>Ridge Reg</th>\n",
       "      <th>Gamma Reg</th>\n",
       "      <th>SGD Reg</th>\n",
       "      <th>year_difference</th>\n",
       "    </tr>\n",
       "  </thead>\n",
       "  <tbody>\n",
       "    <tr>\n",
       "      <th>2011-2012</th>\n",
       "      <td>0.810861</td>\n",
       "      <td>0.480460</td>\n",
       "      <td>0.562397</td>\n",
       "      <td>0.810861</td>\n",
       "      <td>0.809126</td>\n",
       "      <td>0.892027</td>\n",
       "      <td>0.811327</td>\n",
       "      <td>1</td>\n",
       "    </tr>\n",
       "    <tr>\n",
       "      <th>2011-2013</th>\n",
       "      <td>0.629815</td>\n",
       "      <td>0.459551</td>\n",
       "      <td>0.510427</td>\n",
       "      <td>0.629954</td>\n",
       "      <td>0.628275</td>\n",
       "      <td>0.859046</td>\n",
       "      <td>0.631832</td>\n",
       "      <td>2</td>\n",
       "    </tr>\n",
       "    <tr>\n",
       "      <th>2011-2014</th>\n",
       "      <td>0.640342</td>\n",
       "      <td>0.477731</td>\n",
       "      <td>0.543422</td>\n",
       "      <td>0.640417</td>\n",
       "      <td>0.639022</td>\n",
       "      <td>0.865673</td>\n",
       "      <td>0.642376</td>\n",
       "      <td>3</td>\n",
       "    </tr>\n",
       "    <tr>\n",
       "      <th>2011-2015</th>\n",
       "      <td>0.568732</td>\n",
       "      <td>0.436641</td>\n",
       "      <td>0.499220</td>\n",
       "      <td>0.568905</td>\n",
       "      <td>0.567973</td>\n",
       "      <td>0.856222</td>\n",
       "      <td>0.571415</td>\n",
       "      <td>4</td>\n",
       "    </tr>\n",
       "    <tr>\n",
       "      <th>2011-2016</th>\n",
       "      <td>-0.053979</td>\n",
       "      <td>-0.643795</td>\n",
       "      <td>-0.536767</td>\n",
       "      <td>-0.053813</td>\n",
       "      <td>-0.057447</td>\n",
       "      <td>0.809211</td>\n",
       "      <td>-0.052836</td>\n",
       "      <td>5</td>\n",
       "    </tr>\n",
       "    <tr>\n",
       "      <th>2012-2013</th>\n",
       "      <td>0.812082</td>\n",
       "      <td>0.813496</td>\n",
       "      <td>0.848557</td>\n",
       "      <td>0.812082</td>\n",
       "      <td>0.812672</td>\n",
       "      <td>0.702586</td>\n",
       "      <td>0.813787</td>\n",
       "      <td>1</td>\n",
       "    </tr>\n",
       "    <tr>\n",
       "      <th>2012-2014</th>\n",
       "      <td>0.812930</td>\n",
       "      <td>0.867971</td>\n",
       "      <td>0.869329</td>\n",
       "      <td>0.812930</td>\n",
       "      <td>0.813309</td>\n",
       "      <td>0.696375</td>\n",
       "      <td>0.813962</td>\n",
       "      <td>2</td>\n",
       "    </tr>\n",
       "    <tr>\n",
       "      <th>2012-2015</th>\n",
       "      <td>0.746523</td>\n",
       "      <td>0.768942</td>\n",
       "      <td>0.801019</td>\n",
       "      <td>0.746523</td>\n",
       "      <td>0.748127</td>\n",
       "      <td>0.693216</td>\n",
       "      <td>0.751649</td>\n",
       "      <td>3</td>\n",
       "    </tr>\n",
       "    <tr>\n",
       "      <th>2012-2016</th>\n",
       "      <td>0.331075</td>\n",
       "      <td>0.359596</td>\n",
       "      <td>0.378735</td>\n",
       "      <td>0.331075</td>\n",
       "      <td>0.330030</td>\n",
       "      <td>0.476333</td>\n",
       "      <td>0.329724</td>\n",
       "      <td>4</td>\n",
       "    </tr>\n",
       "    <tr>\n",
       "      <th>2013-2014</th>\n",
       "      <td>0.850913</td>\n",
       "      <td>0.926943</td>\n",
       "      <td>0.931758</td>\n",
       "      <td>0.850913</td>\n",
       "      <td>0.850933</td>\n",
       "      <td>0.719376</td>\n",
       "      <td>0.850433</td>\n",
       "      <td>1</td>\n",
       "    </tr>\n",
       "    <tr>\n",
       "      <th>2013-2015</th>\n",
       "      <td>0.857307</td>\n",
       "      <td>0.952745</td>\n",
       "      <td>0.952516</td>\n",
       "      <td>0.857307</td>\n",
       "      <td>0.857550</td>\n",
       "      <td>0.723043</td>\n",
       "      <td>0.858082</td>\n",
       "      <td>2</td>\n",
       "    </tr>\n",
       "    <tr>\n",
       "      <th>2013-2016</th>\n",
       "      <td>0.612867</td>\n",
       "      <td>0.455148</td>\n",
       "      <td>0.533534</td>\n",
       "      <td>0.612867</td>\n",
       "      <td>0.611273</td>\n",
       "      <td>0.736971</td>\n",
       "      <td>0.609729</td>\n",
       "      <td>3</td>\n",
       "    </tr>\n",
       "    <tr>\n",
       "      <th>2014-2015</th>\n",
       "      <td>0.839772</td>\n",
       "      <td>0.953267</td>\n",
       "      <td>0.953544</td>\n",
       "      <td>0.666999</td>\n",
       "      <td>0.840278</td>\n",
       "      <td>0.783706</td>\n",
       "      <td>0.840581</td>\n",
       "      <td>1</td>\n",
       "    </tr>\n",
       "    <tr>\n",
       "      <th>2014-2016</th>\n",
       "      <td>0.633870</td>\n",
       "      <td>0.437643</td>\n",
       "      <td>0.472784</td>\n",
       "      <td>0.650009</td>\n",
       "      <td>0.632270</td>\n",
       "      <td>0.754990</td>\n",
       "      <td>0.633767</td>\n",
       "      <td>2</td>\n",
       "    </tr>\n",
       "    <tr>\n",
       "      <th>2015-2016</th>\n",
       "      <td>0.720226</td>\n",
       "      <td>0.463280</td>\n",
       "      <td>0.591431</td>\n",
       "      <td>0.720226</td>\n",
       "      <td>0.718703</td>\n",
       "      <td>0.817682</td>\n",
       "      <td>0.718474</td>\n",
       "      <td>1</td>\n",
       "    </tr>\n",
       "  </tbody>\n",
       "</table>\n",
       "</div>"
      ],
      "text/plain": [
       "           Linear Regression  Random Forest Reg   XGB Reg  Lars Reg  \\\n",
       "2011-2012           0.810861           0.480460  0.562397  0.810861   \n",
       "2011-2013           0.629815           0.459551  0.510427  0.629954   \n",
       "2011-2014           0.640342           0.477731  0.543422  0.640417   \n",
       "2011-2015           0.568732           0.436641  0.499220  0.568905   \n",
       "2011-2016          -0.053979          -0.643795 -0.536767 -0.053813   \n",
       "2012-2013           0.812082           0.813496  0.848557  0.812082   \n",
       "2012-2014           0.812930           0.867971  0.869329  0.812930   \n",
       "2012-2015           0.746523           0.768942  0.801019  0.746523   \n",
       "2012-2016           0.331075           0.359596  0.378735  0.331075   \n",
       "2013-2014           0.850913           0.926943  0.931758  0.850913   \n",
       "2013-2015           0.857307           0.952745  0.952516  0.857307   \n",
       "2013-2016           0.612867           0.455148  0.533534  0.612867   \n",
       "2014-2015           0.839772           0.953267  0.953544  0.666999   \n",
       "2014-2016           0.633870           0.437643  0.472784  0.650009   \n",
       "2015-2016           0.720226           0.463280  0.591431  0.720226   \n",
       "\n",
       "           Ridge Reg  Gamma Reg   SGD Reg  year_difference  \n",
       "2011-2012   0.809126   0.892027  0.811327                1  \n",
       "2011-2013   0.628275   0.859046  0.631832                2  \n",
       "2011-2014   0.639022   0.865673  0.642376                3  \n",
       "2011-2015   0.567973   0.856222  0.571415                4  \n",
       "2011-2016  -0.057447   0.809211 -0.052836                5  \n",
       "2012-2013   0.812672   0.702586  0.813787                1  \n",
       "2012-2014   0.813309   0.696375  0.813962                2  \n",
       "2012-2015   0.748127   0.693216  0.751649                3  \n",
       "2012-2016   0.330030   0.476333  0.329724                4  \n",
       "2013-2014   0.850933   0.719376  0.850433                1  \n",
       "2013-2015   0.857550   0.723043  0.858082                2  \n",
       "2013-2016   0.611273   0.736971  0.609729                3  \n",
       "2014-2015   0.840278   0.783706  0.840581                1  \n",
       "2014-2016   0.632270   0.754990  0.633767                2  \n",
       "2015-2016   0.718703   0.817682  0.718474                1  "
      ]
     },
     "execution_count": 55,
     "metadata": {},
     "output_type": "execute_result"
    }
   ],
   "source": [
    "df_rsquare"
   ]
  },
  {
   "cell_type": "code",
   "execution_count": 56,
   "id": "fc47a026",
   "metadata": {},
   "outputs": [
    {
     "data": {
      "text/plain": [
       "Index(['Gamma Reg'], dtype='object')"
      ]
     },
     "execution_count": 56,
     "metadata": {},
     "output_type": "execute_result"
    }
   ],
   "source": [
    "df_rsquare.iloc[:, :-1].median()[df_rsquare.median() == df_rsquare.iloc[:, :-1].median().max()].index"
   ]
  },
  {
   "cell_type": "code",
   "execution_count": 57,
   "id": "2dc09355",
   "metadata": {},
   "outputs": [
    {
     "data": {
      "image/png": "[encoded data removed]",
      "text/plain": [
       "<Figure size 1008x504 with 1 Axes>"
      ]
     },
     "metadata": {},
     "output_type": "display_data"
    }
   ],
   "source": [
    "fig, ax = plt.subplots(figsize=(14, 7))\n",
    "\n",
    "for i in range(len(df_rsquare.columns) - 1):\n",
    "    if df_rsquare.median().index[i] == df_rsquare.iloc[:, :-1].median()[df_rsquare.median() == df_rsquare.iloc[:, :-1].median().max()].index:\n",
    "        color = '#0746ab'\n",
    "    else:\n",
    "        color = '#9cc0f7'\n",
    "    ax.plot(df_rsquare.index.str[2:4] + '-' + df_rsquare.index.str[7:9],\n",
    "            df_rsquare.iloc[:, i], label=df_rsquare.columns[i],\n",
    "            color=color)\n",
    "\n",
    "# Y axis\n",
    "ax.set_ylabel('R^2 score', size=16)\n",
    "\n",
    "# X axis\n",
    "ax.set_xlabel('Years', size=16)\n",
    "\n",
    "plt.title('R^2 Score of the Models Through the Years', size=22, pad=35)\n",
    "\n",
    "ax.set_facecolor(color='#f5f5f5')\n",
    "fig.patch.set_facecolor('#f5f5f5')\n",
    "\n",
    "ax.spines['right'].set_visible(False)\n",
    "ax.spines['top'].set_visible(False)\n",
    "ax.spines['left'].set_linewidth(0.5)\n",
    "ax.spines['bottom'].set_linewidth(0.5)\n",
    "\n",
    "ax.legend(loc='lower right')\n",
    "\n",
    "plt.show()"
   ]
  },
  {
   "cell_type": "markdown",
   "id": "64475605",
   "metadata": {},
   "source": [
    "The figure above shows the relationship of the R2 score of the model with the rest of the years. The first two ticks on the x-axis show the year the model was trained, and the last two is which year the test set was tested on. For example, the first x-tick, ‘11-12’, had the regression models trained on the training set of the year 2011, and tested on the test set of the year 2012. On the ’11-16’ tick, there is a significant dip in most of the model’s performance, and some R2 values are below 0 which indicates that the trained models do not follow the trend of the testing set, in those situations. A reason for this strong dip in this period is that the weights of the ranking are changing each year, and the larger the difference in years, usually the larger the gaps will be."
   ]
  },
  {
   "cell_type": "markdown",
   "id": "ac02d69c",
   "metadata": {},
   "source": [
    "## Implementing gamma regression for prediction future university ranking"
   ]
  },
  {
   "cell_type": "code",
   "execution_count": 58,
   "id": "e19888a9",
   "metadata": {},
   "outputs": [],
   "source": [
    "sgd_reg_pipe = Pipeline([('scaler', StandardScaler()),\n",
    "                         ('SGD reg', SGDRegressor(random_state=0))])"
   ]
  },
  {
   "cell_type": "code",
   "execution_count": 59,
   "id": "3af03ed8",
   "metadata": {},
   "outputs": [],
   "source": [
    "df_2016 = df[df['year'] == 2016].copy()\n",
    "X_2016 = df_2016.iloc[:, 4:].values\n",
    "y_2016 = df_2016.iloc[:, 0].values\n",
    "X_2016_train, X_2016_test, y_2016_train, y_2016_test = train_test_split(X_2016,\n",
    "                                            y_2016, test_size=.2, random_state=0)"
   ]
  },
  {
   "cell_type": "code",
   "execution_count": 60,
   "id": "37f67252",
   "metadata": {},
   "outputs": [
    {
     "data": {
      "text/plain": [
       "Pipeline(steps=[('scaler', StandardScaler()),\n",
       "                ('SGD reg', SGDRegressor(random_state=0))])"
      ]
     },
     "execution_count": 60,
     "metadata": {},
     "output_type": "execute_result"
    }
   ],
   "source": [
    "sgd_reg_pipe.fit(X_2016_train, y_2016_train)"
   ]
  },
  {
   "cell_type": "code",
   "execution_count": 61,
   "id": "a7d162ce",
   "metadata": {},
   "outputs": [
    {
     "data": {
      "text/plain": [
       "Index(['world_rank', 'year', 'university_name', 'country', 'teaching',\n",
       "       'international', 'research', 'citations', 'income', 'num_students',\n",
       "       'student_staff_ratio', 'international_students', 'Africa', 'Asia',\n",
       "       'Europe', 'North America', 'Oceania', 'South America', 'UK',\n",
       "       'female_ratio'],\n",
       "      dtype='object')"
      ]
     },
     "execution_count": 61,
     "metadata": {},
     "output_type": "execute_result"
    }
   ],
   "source": [
    "df.columns"
   ]
  },
  {
   "cell_type": "markdown",
   "id": "729b0e82",
   "metadata": {},
   "source": [
    "American-based global university rankings have been known for English-speaking university bias. The dataset doesn't provide the main language of the universities, but segmenting them into their continents, could provide some information if this claim is true."
   ]
  },
  {
   "cell_type": "markdown",
   "id": "498c7cd1",
   "metadata": {},
   "source": [
    "## Checking for systematic bias for continents"
   ]
  },
  {
   "cell_type": "code",
   "execution_count": 62,
   "id": "e353a629",
   "metadata": {},
   "outputs": [],
   "source": [
    "continent_converter_dic = {'Africa': [1 if i == 0 else 0 for i in range(7)], \n",
    "                           'Asia': [1 if i == 1 else 0 for i in range(7)], \n",
    "                           'Europe': [1 if i == 2 else 0 for i in range(7)],\n",
    "                           'North America': [1 if i == 3 else 0 for i in range(7)],\n",
    "                           'Oceania': [1 if i == 4 else 0 for i in range(7)],\n",
    "                           'South America': [1 if i == 5 else 0 for i in range(7)],\n",
    "                           'United Kingdom': [1 if i == 6 else 0 for i in range(7)]}"
   ]
  },
  {
   "cell_type": "code",
   "execution_count": 63,
   "id": "50973194",
   "metadata": {},
   "outputs": [],
   "source": [
    "def univ_predictor_func(num_features:list, num_students:int, student_staff, inter:int,  continent:str, fem_ratio):\n",
    "    lister = list()\n",
    "    for i in [num_features, num_students, student_staff, inter, continent_converter_dic[continent], fem_ratio]:\n",
    "        if type(i) == list:\n",
    "            for j in i:\n",
    "                lister.append(j)\n",
    "        else:\n",
    "            lister.append(i)\n",
    "    return round(float(sgd_reg_pipe.predict(np.array(lister)\n",
    "                                                        .reshape(1, -1))), 4)"
   ]
  },
  {
   "cell_type": "code",
   "execution_count": 64,
   "id": "b891a1ba",
   "metadata": {},
   "outputs": [],
   "source": [
    "lister = list()\n",
    "for i in range(100):\n",
    "    # features\n",
    "    arr = np.random.rand(1, 5) * 100\n",
    "    # Number of students\n",
    "    arr = np.append(arr, np.random.uniform(500, 100000))\n",
    "    # student staff ratio\n",
    "    arr = np.append(arr, np.random.uniform() * 100)\n",
    "    # International\n",
    "    arr = np.append(arr, np.random.uniform() * 100)\n",
    "    # continent\n",
    "    afr_array = np.append(arr, [i for i in continent_converter_dic['Africa']])\n",
    "    asi_array = np.append(arr, [i for i in continent_converter_dic['Asia']])\n",
    "    eu_array = np.append(arr, [i for i in continent_converter_dic['Europe']])\n",
    "    na_array = np.append(arr, [i for i in continent_converter_dic['North America']])\n",
    "    oce_array = np.append(arr, [i for i in continent_converter_dic['Oceania']])\n",
    "    sa_array = np.append(arr, [i for i in continent_converter_dic['South America']])\n",
    "    uk_array = np.append(arr, [i for i in continent_converter_dic['United Kingdom']])\n",
    "    \n",
    "    # female ratio\n",
    "    fem_rand = np.random.uniform() * 100\n",
    "    # Adding female ratio\n",
    "    afr_array = np.append(afr_array, fem_rand)\n",
    "    asi_array = np.append(asi_array, fem_rand)\n",
    "    eu_array = np.append(eu_array, fem_rand)\n",
    "    na_array = np.append(na_array, fem_rand)\n",
    "    oce_array = np.append(oce_array, fem_rand)\n",
    "    sa_array = np.append(sa_array, fem_rand)\n",
    "    uk_array = np.append(uk_array, fem_rand)\n",
    "    lister.append([float(sgd_reg_pipe.predict(afr_array.reshape(1, -1))) - float(sgd_reg_pipe.predict(na_array.reshape(1, -1))),\n",
    "                   float(sgd_reg_pipe.predict(asi_array.reshape(1, -1))) - float(sgd_reg_pipe.predict(na_array.reshape(1, -1))),\n",
    "                   float(sgd_reg_pipe.predict(eu_array.reshape(1, -1))) - float(sgd_reg_pipe.predict(na_array.reshape(1, -1))),\n",
    "                   float(sgd_reg_pipe.predict(oce_array.reshape(1, -1))) - float(sgd_reg_pipe.predict(na_array.reshape(1, -1))),\n",
    "                   float(sgd_reg_pipe.predict(sa_array.reshape(1, -1))) - float(sgd_reg_pipe.predict(na_array.reshape(1, -1))), \n",
    "                   float(sgd_reg_pipe.predict(uk_array.reshape(1, -1))) - float(sgd_reg_pipe.predict(na_array.reshape(1, -1)))])\n",
    "    "
   ]
  },
  {
   "cell_type": "code",
   "execution_count": 65,
   "id": "1293064a",
   "metadata": {},
   "outputs": [],
   "source": [
    "arr = np.array(lister)"
   ]
  },
  {
   "cell_type": "code",
   "execution_count": 66,
   "id": "dd33b6ac",
   "metadata": {},
   "outputs": [],
   "source": [
    "df_arrs = pd.DataFrame(arr, columns=['Africa', 'Asia', 'Europe', 'Oceania', 'South America',\n",
    "                                    'United Kingdom'])"
   ]
  },
  {
   "cell_type": "code",
   "execution_count": 67,
   "id": "8a075c04",
   "metadata": {},
   "outputs": [
    {
     "data": {
      "text/html": [
       "<div>\n",
       "<style scoped>\n",
       "    .dataframe tbody tr th:only-of-type {\n",
       "        vertical-align: middle;\n",
       "    }\n",
       "\n",
       "    .dataframe tbody tr th {\n",
       "        vertical-align: top;\n",
       "    }\n",
       "\n",
       "    .dataframe thead th {\n",
       "        text-align: right;\n",
       "    }\n",
       "</style>\n",
       "<table border=\"1\" class=\"dataframe\">\n",
       "  <thead>\n",
       "    <tr style=\"text-align: right;\">\n",
       "      <th></th>\n",
       "      <th>Africa</th>\n",
       "      <th>Asia</th>\n",
       "      <th>Europe</th>\n",
       "      <th>Oceania</th>\n",
       "      <th>South America</th>\n",
       "      <th>United Kingdom</th>\n",
       "    </tr>\n",
       "  </thead>\n",
       "  <tbody>\n",
       "    <tr>\n",
       "      <th>0</th>\n",
       "      <td>4.062411</td>\n",
       "      <td>-0.92715</td>\n",
       "      <td>-1.262579</td>\n",
       "      <td>1.954334</td>\n",
       "      <td>-5.810216</td>\n",
       "      <td>5.757514</td>\n",
       "    </tr>\n",
       "    <tr>\n",
       "      <th>1</th>\n",
       "      <td>4.062411</td>\n",
       "      <td>-0.92715</td>\n",
       "      <td>-1.262579</td>\n",
       "      <td>1.954334</td>\n",
       "      <td>-5.810216</td>\n",
       "      <td>5.757514</td>\n",
       "    </tr>\n",
       "    <tr>\n",
       "      <th>2</th>\n",
       "      <td>4.062411</td>\n",
       "      <td>-0.92715</td>\n",
       "      <td>-1.262579</td>\n",
       "      <td>1.954334</td>\n",
       "      <td>-5.810216</td>\n",
       "      <td>5.757514</td>\n",
       "    </tr>\n",
       "    <tr>\n",
       "      <th>3</th>\n",
       "      <td>4.062411</td>\n",
       "      <td>-0.92715</td>\n",
       "      <td>-1.262579</td>\n",
       "      <td>1.954334</td>\n",
       "      <td>-5.810216</td>\n",
       "      <td>5.757514</td>\n",
       "    </tr>\n",
       "    <tr>\n",
       "      <th>4</th>\n",
       "      <td>4.062411</td>\n",
       "      <td>-0.92715</td>\n",
       "      <td>-1.262579</td>\n",
       "      <td>1.954334</td>\n",
       "      <td>-5.810216</td>\n",
       "      <td>5.757514</td>\n",
       "    </tr>\n",
       "    <tr>\n",
       "      <th>...</th>\n",
       "      <td>...</td>\n",
       "      <td>...</td>\n",
       "      <td>...</td>\n",
       "      <td>...</td>\n",
       "      <td>...</td>\n",
       "      <td>...</td>\n",
       "    </tr>\n",
       "    <tr>\n",
       "      <th>95</th>\n",
       "      <td>4.062411</td>\n",
       "      <td>-0.92715</td>\n",
       "      <td>-1.262579</td>\n",
       "      <td>1.954334</td>\n",
       "      <td>-5.810216</td>\n",
       "      <td>5.757514</td>\n",
       "    </tr>\n",
       "    <tr>\n",
       "      <th>96</th>\n",
       "      <td>4.062411</td>\n",
       "      <td>-0.92715</td>\n",
       "      <td>-1.262579</td>\n",
       "      <td>1.954334</td>\n",
       "      <td>-5.810216</td>\n",
       "      <td>5.757514</td>\n",
       "    </tr>\n",
       "    <tr>\n",
       "      <th>97</th>\n",
       "      <td>4.062411</td>\n",
       "      <td>-0.92715</td>\n",
       "      <td>-1.262579</td>\n",
       "      <td>1.954334</td>\n",
       "      <td>-5.810216</td>\n",
       "      <td>5.757514</td>\n",
       "    </tr>\n",
       "    <tr>\n",
       "      <th>98</th>\n",
       "      <td>4.062411</td>\n",
       "      <td>-0.92715</td>\n",
       "      <td>-1.262579</td>\n",
       "      <td>1.954334</td>\n",
       "      <td>-5.810216</td>\n",
       "      <td>5.757514</td>\n",
       "    </tr>\n",
       "    <tr>\n",
       "      <th>99</th>\n",
       "      <td>4.062411</td>\n",
       "      <td>-0.92715</td>\n",
       "      <td>-1.262579</td>\n",
       "      <td>1.954334</td>\n",
       "      <td>-5.810216</td>\n",
       "      <td>5.757514</td>\n",
       "    </tr>\n",
       "  </tbody>\n",
       "</table>\n",
       "<p>100 rows × 6 columns</p>\n",
       "</div>"
      ],
      "text/plain": [
       "      Africa     Asia    Europe   Oceania  South America  United Kingdom\n",
       "0   4.062411 -0.92715 -1.262579  1.954334      -5.810216        5.757514\n",
       "1   4.062411 -0.92715 -1.262579  1.954334      -5.810216        5.757514\n",
       "2   4.062411 -0.92715 -1.262579  1.954334      -5.810216        5.757514\n",
       "3   4.062411 -0.92715 -1.262579  1.954334      -5.810216        5.757514\n",
       "4   4.062411 -0.92715 -1.262579  1.954334      -5.810216        5.757514\n",
       "..       ...      ...       ...       ...            ...             ...\n",
       "95  4.062411 -0.92715 -1.262579  1.954334      -5.810216        5.757514\n",
       "96  4.062411 -0.92715 -1.262579  1.954334      -5.810216        5.757514\n",
       "97  4.062411 -0.92715 -1.262579  1.954334      -5.810216        5.757514\n",
       "98  4.062411 -0.92715 -1.262579  1.954334      -5.810216        5.757514\n",
       "99  4.062411 -0.92715 -1.262579  1.954334      -5.810216        5.757514\n",
       "\n",
       "[100 rows x 6 columns]"
      ]
     },
     "execution_count": 67,
     "metadata": {},
     "output_type": "execute_result"
    }
   ],
   "source": [
    "df_arrs"
   ]
  },
  {
   "cell_type": "code",
   "execution_count": 68,
   "id": "a49e3199",
   "metadata": {},
   "outputs": [],
   "source": [
    "colors = ['#9ff5b6', '#e6c297', '#b5c7e8', '#e4c4f5', '#f5c4d6', '#0746ab']"
   ]
  },
  {
   "cell_type": "code",
   "execution_count": 69,
   "id": "73b92b41",
   "metadata": {},
   "outputs": [
    {
     "data": {
      "image/png": "[encoded data removed]",
      "text/plain": [
       "<Figure size 720x432 with 1 Axes>"
      ]
     },
     "metadata": {},
     "output_type": "display_data"
    }
   ],
   "source": [
    "fig, ax = plt.subplots(figsize=(10, 6))\n",
    "for col in range(len(df_arrs.T)):\n",
    "    if df_arrs.columns[col] == 'United Kingdom':\n",
    "        linewidth=2\n",
    "    else: \n",
    "        linewidth=1.8\n",
    "    ax.plot(np.arange(0, 100), df_arrs.iloc[:, col], linewidth=linewidth,\n",
    "            label=df_arrs.columns[col], color=colors[col])\n",
    "\n",
    "# X axis\n",
    "ax.set_xlabel('Iteration number', size=14)\n",
    "\n",
    "# y axis\n",
    "ax.set_ylabel('Difference in University ranking', size=14)\n",
    "#ax.set_yticks(np.round(np.linspace(-3, 7, 11), 2))\n",
    "\n",
    "plt.title('Model prediction - NA', size=20, pad=20)\n",
    "\n",
    "ax.set_facecolor(color='#f5f5f5')\n",
    "fig.patch.set_facecolor('#f5f5f5')\n",
    "\n",
    "ax.spines['right'].set_visible(False)\n",
    "ax.spines['top'].set_visible(False)\n",
    "ax.spines['left'].set_linewidth(0.5)\n",
    "ax.spines['bottom'].set_linewidth(0.5)\n",
    "\n",
    "ax.legend()\n",
    "plt.show()"
   ]
  },
  {
   "cell_type": "markdown",
   "id": "158d282c",
   "metadata": {},
   "source": [
    "The data visualization above is quite surprising when looking at the difference the model has in predicting university rankings between North American universities, and universities from the UK. The x-axis is the number of iterations it was, and the y-axis shows the difference in predicted university ranking. As the output displays, the differences are constant, so it would not matter if the number of iterations was different. The gamma regression has a constant of +5.75 when subtracting the model’s prediction of North American universities against UK universities (Fig. 4). This means that when the model sees the university is in the UK, it predicts a 5.75 worse ranking than if it was a university in North America. Other continents such as South America have -5.81 in difference, meaning the rankings are predicting an improved rating than if the university was in South America."
   ]
  },
  {
   "cell_type": "code",
   "execution_count": 70,
   "id": "0371695d",
   "metadata": {},
   "outputs": [
    {
     "data": {
      "text/plain": [
       "38"
      ]
     },
     "execution_count": 70,
     "metadata": {},
     "output_type": "execute_result"
    }
   ],
   "source": [
    "len(df[df['South America'] == 1])"
   ]
  },
  {
   "cell_type": "code",
   "execution_count": 71,
   "id": "cd00374b",
   "metadata": {
    "scrolled": true
   },
   "outputs": [
    {
     "name": "stdout",
     "output_type": "stream",
     "text": [
      "Enter data for teaching: \t45\n",
      "Enter data for international: \t56\n",
      "Enter data for research: \t70\n",
      "Enter data for citations: \t45\n",
      "Enter data for income: \t70\n",
      "Enter data for num_students: \t20000\n",
      "Enter data for student_staff_ratio: \t30\n",
      "Enter data for international_students: \t30\n",
      "Type in one of these continents, or if it's in the UK, United Kingdom\n",
      "Africa\n",
      "Asia\n",
      "Europe\n",
      "North America\n",
      "Oceania\n",
      "South America\n",
      "United Kingdom\n",
      "Enter the continent: Europe\n",
      "Enter data for female_ratio: \t50\n"
     ]
    }
   ],
   "source": [
    "university_predictor_data = list()\n",
    "for i in range(len(df.columns)):\n",
    "    if i in [0, 1, 2, 3, 13, 14, 15, 16, 17, 18]:\n",
    "        continue\n",
    "    elif df.columns[i] == 'Africa':\n",
    "        try:\n",
    "            print(\"Type in one of these continents, or if it's in the UK, United Kingdom\")\n",
    "            for key in continent_converter_dic:\n",
    "                print(key)\n",
    "            for i in continent_converter_dic[input(\"Enter the continent: \")]:\n",
    "                university_predictor_data.append(i)\n",
    "        except:\n",
    "            ValueError(\"The value needs to be a continent, or United Kingdom\")\n",
    "    else:\n",
    "        university_predictor_data.append(int(input(f\"Enter data for {df.columns[i]}: \\t\")))"
   ]
  },
  {
   "cell_type": "code",
   "execution_count": 72,
   "id": "941d816f",
   "metadata": {},
   "outputs": [
    {
     "name": "stdout",
     "output_type": "stream",
     "text": [
      "Predicted rank is:  252.0015\n"
     ]
    }
   ],
   "source": [
    "print(\"Predicted rank is: \", round(float(sgd_reg_pipe.predict(np.array(university_predictor_data)\n",
    "                                                        .reshape(1, -1))), 4))"
   ]
  }
 ],
 "metadata": {
  "kernelspec": {
   "display_name": "Python 3 (ipykernel)",
   "language": "python",
   "name": "python3"
  },
  "language_info": {
   "codemirror_mode": {
    "name": "ipython",
    "version": 3
   },
   "file_extension": ".py",
   "mimetype": "text/x-python",
   "name": "python",
   "nbconvert_exporter": "python",
   "pygments_lexer": "ipython3",
   "version": "3.9.12"
  }
 },
 "nbformat": 4,
 "nbformat_minor": 5
}
